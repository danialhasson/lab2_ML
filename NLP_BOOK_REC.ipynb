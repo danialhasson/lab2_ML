{
  "nbformat": 4,
  "nbformat_minor": 0,
  "metadata": {
    "colab": {
      "provenance": [],
      "authorship_tag": "ABX9TyMdrcSaRJV5ibycMJVb32Yp",
      "include_colab_link": true
    },
    "kernelspec": {
      "name": "python3",
      "display_name": "Python 3"
    },
    "language_info": {
      "name": "python"
    }
  },
  "cells": [
    {
      "cell_type": "markdown",
      "metadata": {
        "id": "view-in-github",
        "colab_type": "text"
      },
      "source": [
        "<a href=\"https://colab.research.google.com/github/danialhasson/lab2_ML/blob/main/NLP_BOOK_REC.ipynb\" target=\"_parent\"><img src=\"https://colab.research.google.com/assets/colab-badge.svg\" alt=\"Open In Colab\"/></a>"
      ]
    },
    {
      "cell_type": "markdown",
      "source": [
        "Relevant libraries"
      ],
      "metadata": {
        "id": "rPcatUmOdkEG"
      }
    },
    {
      "cell_type": "code",
      "execution_count": 1,
      "metadata": {
        "id": "OYyz0yJWVDX_"
      },
      "outputs": [],
      "source": [
        "import pandas as pd\n",
        "from sklearn.feature_extraction.text import TfidfVectorizer\n",
        "from sklearn.neighbors import NearestNeighbors\n",
        "from sklearn.metrics.pairwise import linear_kernel\n",
        "import numpy as np\n",
        "from sklearn.metrics.pairwise import cosine_similarity"
      ]
    },
    {
      "cell_type": "code",
      "source": [
        "df=pd.read_csv(\"/content/book900k-1000k.csv\")#this is merly a sample"
      ],
      "metadata": {
        "id": "KUuI8b8SWbPt"
      },
      "execution_count": 2,
      "outputs": []
    },
    {
      "cell_type": "markdown",
      "source": [
        "**TF**-**IDF** **Matrix**\n",
        "\n",
        "Each document (book description) is represented as a vector in a high-dimensional space based on the TF-IDF values of its terms."
      ],
      "metadata": {
        "id": "Q02otcw9dyOB"
      }
    },
    {
      "cell_type": "code",
      "source": [
        "descriptions = list(df['Description'])\n",
        "descriptions = [\"\" if isinstance(desc, float) and np.isnan(desc) else desc for desc in descriptions]\n",
        "processed_descriptions = [desc.lower() for desc in descriptions]\n",
        "vectorizer = TfidfVectorizer(stop_words='english')\n",
        "tfidf_matrix = vectorizer.fit_transform(descriptions)"
      ],
      "metadata": {
        "id": "LZsgnj3vYoWW"
      },
      "execution_count": 3,
      "outputs": []
    },
    {
      "cell_type": "markdown",
      "source": [
        "# **Nearest Neighbors:**\n",
        "\n",
        "-**Cosine similarity** is used as the distance metric in the k-NN algorithm. It measures the cosine of the angle between two vectors, providing a measure of similarity\n",
        "\n",
        "-In the context of **TF-IDF vectors**, cosine similarity reflects how similar two documents are based on the importance of shared terms.\n",
        "-The k-NN algorithm finds the k documents with the most similar TF-IDF vectors to a given query document. These are considered the nearest neighbors."
      ],
      "metadata": {
        "id": "V5QMVH8Fd586"
      }
    },
    {
      "cell_type": "code",
      "source": [
        "# Step 2: k-NN Model\n",
        "knn_model = NearestNeighbors(n_neighbors=5, algorithm='brute', metric='cosine')\n",
        "knn_model.fit(tfidf_matrix)"
      ],
      "metadata": {
        "colab": {
          "base_uri": "https://localhost:8080/",
          "height": 74
        },
        "id": "8GvWvdoJZclM",
        "outputId": "d18ebc6d-47e4-4065-ab91-0c1d24b89e82"
      },
      "execution_count": 4,
      "outputs": [
        {
          "output_type": "execute_result",
          "data": {
            "text/plain": [
              "NearestNeighbors(algorithm='brute', metric='cosine')"
            ],
            "text/html": [
              "<style>#sk-container-id-1 {color: black;background-color: white;}#sk-container-id-1 pre{padding: 0;}#sk-container-id-1 div.sk-toggleable {background-color: white;}#sk-container-id-1 label.sk-toggleable__label {cursor: pointer;display: block;width: 100%;margin-bottom: 0;padding: 0.3em;box-sizing: border-box;text-align: center;}#sk-container-id-1 label.sk-toggleable__label-arrow:before {content: \"▸\";float: left;margin-right: 0.25em;color: #696969;}#sk-container-id-1 label.sk-toggleable__label-arrow:hover:before {color: black;}#sk-container-id-1 div.sk-estimator:hover label.sk-toggleable__label-arrow:before {color: black;}#sk-container-id-1 div.sk-toggleable__content {max-height: 0;max-width: 0;overflow: hidden;text-align: left;background-color: #f0f8ff;}#sk-container-id-1 div.sk-toggleable__content pre {margin: 0.2em;color: black;border-radius: 0.25em;background-color: #f0f8ff;}#sk-container-id-1 input.sk-toggleable__control:checked~div.sk-toggleable__content {max-height: 200px;max-width: 100%;overflow: auto;}#sk-container-id-1 input.sk-toggleable__control:checked~label.sk-toggleable__label-arrow:before {content: \"▾\";}#sk-container-id-1 div.sk-estimator input.sk-toggleable__control:checked~label.sk-toggleable__label {background-color: #d4ebff;}#sk-container-id-1 div.sk-label input.sk-toggleable__control:checked~label.sk-toggleable__label {background-color: #d4ebff;}#sk-container-id-1 input.sk-hidden--visually {border: 0;clip: rect(1px 1px 1px 1px);clip: rect(1px, 1px, 1px, 1px);height: 1px;margin: -1px;overflow: hidden;padding: 0;position: absolute;width: 1px;}#sk-container-id-1 div.sk-estimator {font-family: monospace;background-color: #f0f8ff;border: 1px dotted black;border-radius: 0.25em;box-sizing: border-box;margin-bottom: 0.5em;}#sk-container-id-1 div.sk-estimator:hover {background-color: #d4ebff;}#sk-container-id-1 div.sk-parallel-item::after {content: \"\";width: 100%;border-bottom: 1px solid gray;flex-grow: 1;}#sk-container-id-1 div.sk-label:hover label.sk-toggleable__label {background-color: #d4ebff;}#sk-container-id-1 div.sk-serial::before {content: \"\";position: absolute;border-left: 1px solid gray;box-sizing: border-box;top: 0;bottom: 0;left: 50%;z-index: 0;}#sk-container-id-1 div.sk-serial {display: flex;flex-direction: column;align-items: center;background-color: white;padding-right: 0.2em;padding-left: 0.2em;position: relative;}#sk-container-id-1 div.sk-item {position: relative;z-index: 1;}#sk-container-id-1 div.sk-parallel {display: flex;align-items: stretch;justify-content: center;background-color: white;position: relative;}#sk-container-id-1 div.sk-item::before, #sk-container-id-1 div.sk-parallel-item::before {content: \"\";position: absolute;border-left: 1px solid gray;box-sizing: border-box;top: 0;bottom: 0;left: 50%;z-index: -1;}#sk-container-id-1 div.sk-parallel-item {display: flex;flex-direction: column;z-index: 1;position: relative;background-color: white;}#sk-container-id-1 div.sk-parallel-item:first-child::after {align-self: flex-end;width: 50%;}#sk-container-id-1 div.sk-parallel-item:last-child::after {align-self: flex-start;width: 50%;}#sk-container-id-1 div.sk-parallel-item:only-child::after {width: 0;}#sk-container-id-1 div.sk-dashed-wrapped {border: 1px dashed gray;margin: 0 0.4em 0.5em 0.4em;box-sizing: border-box;padding-bottom: 0.4em;background-color: white;}#sk-container-id-1 div.sk-label label {font-family: monospace;font-weight: bold;display: inline-block;line-height: 1.2em;}#sk-container-id-1 div.sk-label-container {text-align: center;}#sk-container-id-1 div.sk-container {/* jupyter's `normalize.less` sets `[hidden] { display: none; }` but bootstrap.min.css set `[hidden] { display: none !important; }` so we also need the `!important` here to be able to override the default hidden behavior on the sphinx rendered scikit-learn.org. See: https://github.com/scikit-learn/scikit-learn/issues/21755 */display: inline-block !important;position: relative;}#sk-container-id-1 div.sk-text-repr-fallback {display: none;}</style><div id=\"sk-container-id-1\" class=\"sk-top-container\"><div class=\"sk-text-repr-fallback\"><pre>NearestNeighbors(algorithm=&#x27;brute&#x27;, metric=&#x27;cosine&#x27;)</pre><b>In a Jupyter environment, please rerun this cell to show the HTML representation or trust the notebook. <br />On GitHub, the HTML representation is unable to render, please try loading this page with nbviewer.org.</b></div><div class=\"sk-container\" hidden><div class=\"sk-item\"><div class=\"sk-estimator sk-toggleable\"><input class=\"sk-toggleable__control sk-hidden--visually\" id=\"sk-estimator-id-1\" type=\"checkbox\" checked><label for=\"sk-estimator-id-1\" class=\"sk-toggleable__label sk-toggleable__label-arrow\">NearestNeighbors</label><div class=\"sk-toggleable__content\"><pre>NearestNeighbors(algorithm=&#x27;brute&#x27;, metric=&#x27;cosine&#x27;)</pre></div></div></div></div></div>"
            ]
          },
          "metadata": {},
          "execution_count": 4
        }
      ]
    },
    {
      "cell_type": "markdown",
      "source": [
        "# **similarity in semantic contex**\n",
        "Semantically, documents with similar TF-IDF representations are likely to have similar content or meaning. The TF-IDF matrix captures the importance of terms in each document, and documents with similar term importance profiles are considered similar."
      ],
      "metadata": {
        "id": "MPZDkIItfHkL"
      }
    },
    {
      "cell_type": "code",
      "source": [
        "def get_similar_books(description):\n",
        "    input_vector = vectorizer.transform([description])\n",
        "    _, indices = knn_model.kneighbors(input_vector)\n",
        "    similar_books = [descriptions[idx] for idx in indices.flatten()]\n",
        "    return similar_books"
      ],
      "metadata": {
        "id": "LqEk5fo9YKYE"
      },
      "execution_count": 5,
      "outputs": []
    },
    {
      "cell_type": "code",
      "source": [
        " def Example_usage(desc):\n",
        "  input_book_description = \"A captivating fantasy novel with magical creatures.\"\n",
        "  similar_books = get_similar_books(desc)\n",
        "  print(f\"Similar Books to: {input_book_description}:\")\n",
        "  for i, book in enumerate(similar_books, start=1):\n",
        "      print(f\"{i}. {book}\")\n",
        "  print('\\n')"
      ],
      "metadata": {
        "id": "mwF9NELKZlJE"
      },
      "execution_count": 8,
      "outputs": []
    },
    {
      "cell_type": "code",
      "source": [
        "input_book_description = \"A captivating fantasy novel with magical creatures.\"\n",
        "input_book_description1 = \"scary\"\n",
        "Example_usage(input_book_description)\n",
        "Example_usage(input_book_description1)"
      ],
      "metadata": {
        "colab": {
          "base_uri": "https://localhost:8080/"
        },
        "id": "up6duXA-Ssi6",
        "outputId": "da5fc9eb-ab0f-4c69-fecf-495c11712f30"
      },
      "execution_count": 9,
      "outputs": [
        {
          "output_type": "stream",
          "name": "stdout",
          "text": [
            "Similar Books to: A captivating fantasy novel with magical creatures.:\n",
            "1. This volume includes various aspects related to these creatures.\n",
            "2. Unique, captivating novel that takes the reader on both a physical and a spiritual journey of a lifetime. The reader is taken on a profound search for Truth.\n",
            "3. From \"the best new writer in Britain\" (The Guardian) comes a first novel of captivating originality. Set in contemporary Italy and focusing on an extraordinary love triangle between two men and a dog, this is a novel of unexpected twists and inspiring humanity.\n",
            "4. Whimsical, wise, and wonderful, this novel by a major voice in modern fantasy tells the story of a land where magic works in a most dubious fashion--in a society of wizards and farmers with the most dubious of ideas. Dean is the author of the acclaimed fantasy novel Tam Lin.\n",
            "5. The Wolfen (1978), the debut novel by Whitley Strieber, tells the story of two police detectives in New York City who, while investigating the violent deaths of two policemen in a junk yard, discover that a pack of intelligent and savage wolf-like creatures are stalking the city. These predators are not traditional werewolves, as they are a separate race of intelligent beings descended from wolves that live secretly alongside mankind in our cities and quickly killing anyone who learns about their existence. What is unique about this novel is that some of the story is told from the point of view of the alpha creatures and this causes the reader to be sympathetic of the creatures' needs.<br /><br />A film adaptation directed by Michael Wadleigh and starring Albert Finney, was released in 1981.\n",
            "\n",
            "\n",
            "Similar Books to: A captivating fantasy novel with magical creatures.:\n",
            "1. Scare up a new generation of readers with this hugely entertaining collection of four scary stories. With rhythmic text, lively illustrations, and stories that aren't too scary, this gripping series provides just enough thrills.\n",
            "2. After watching a scary movie, both Brother and Sister Bear are troubled by nightmares until Mama and Papa explain what causes bad dreams.\n",
            "3. When the old woman's shoes sing and dance all night and keep her awake, she goes to the scary Willy Nilly Man for help.\n",
            "4. Little Runner wants to play big boys games. He wants to wear old clothes and scary masks, just like them. But Mother thinks he's too young\n",
            "5. Best-selling illustrator Howard Fine teams up with Mary Beth Lundgren to create a not-too-scary bedtime book about monsters. When the lights go off and seven scary monsters come out to make mischief, a young boy uses his imagination to eliminate them, one by one. Using monster-zapping inventions made from objects in his room, the boy finds the confidence to conquer what frightens him most. This funny and reassuring book, with its spirited rhymed text and humorous illustrations depicting a cast of lovable creatures, is a surefire weapon against a common childhood fear.\n",
            "\n",
            "\n"
          ]
        }
      ]
    }
  ]
}